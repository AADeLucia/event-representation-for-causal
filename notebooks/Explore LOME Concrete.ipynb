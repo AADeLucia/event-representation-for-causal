{
 "cells": [
  {
   "cell_type": "markdown",
   "id": "2394b036",
   "metadata": {},
   "source": [
    "* https://github.com/hltcoe/concrete-python"
   ]
  },
  {
   "cell_type": "code",
   "execution_count": 1,
   "id": "c917c3f9",
   "metadata": {},
   "outputs": [],
   "source": [
    "import os\n",
    "from concrete.util import read_communication_from_file\n",
    "from concrete.util import get_tagged_tokens\n",
    "from concrete.util import lun, get_tokens"
   ]
  },
  {
   "cell_type": "code",
   "execution_count": 2,
   "id": "10caaf28",
   "metadata": {},
   "outputs": [],
   "source": [
    "project_folder = os.environ['EVENT_HOME']\n",
    "example_comm = f\"{project_folder}/results/protests/raw_comms/NYT_ENG_19940707.0292.comm\""
   ]
  },
  {
   "cell_type": "code",
   "execution_count": null,
   "id": "3d33a4a4",
   "metadata": {
    "scrolled": false
   },
   "outputs": [],
   "source": [
    "comm = read_communication_from_file(example_comm)\n",
    "print(comm.__dict__.keys())\n",
    "\n",
    "uuid = \"2911b74b-b289-4d6d-2601-3180518c5e31\"\n",
    "print(comm.situationMentionForUUID[uuid].__dict__.keys())\n",
    "print(comm.situationMentionForUUID[uuid].situationType)\n",
    "print(comm.situationMentionForUUID[uuid].argumentList[0].__dict__.keys())\n",
    "print(comm.situationMentionForUUID[uuid].argumentList[0].tokens)\n",
    "\n",
    "\n",
    "for uuid, info in comm.situationMentionForUUID.items():\n",
    "    if info.situationType != \"Temporal Relation\":\n",
    "        continue\n",
    "    if info.situationKind not in {\"before\", \"after\"}:\n",
    "        continue\n",
    "    \n",
    "    print(uuid, info.text, info.situationKind, info.argumentList[0].situationMentionId)"
   ]
  },
  {
   "cell_type": "code",
   "execution_count": 39,
   "id": "1e3b2d53",
   "metadata": {},
   "outputs": [
    {
     "name": "stdout",
     "output_type": "stream",
     "text": [
      "dict_keys(['uuid', 'text', 'situationType', 'situationKind', 'argumentList', 'intensity', 'polarity', 'tokens', 'confidence', 'situationMentionSet'])\n",
      "law\n",
      "EVENT\n",
      "Law\n",
      "1.0\n",
      "dict_keys(['role', 'entityMentionId', 'situationMentionId', 'tokens', 'confidence', 'propertyList', 'entityMention', 'situationMention'])\n"
     ]
    }
   ],
   "source": [
    "print(comm.situationMentionSetList[0].__dict__['mentionList'][0].__dict__.keys())\n",
    "print(comm.situationMentionSetList[0].__dict__['mentionList'][0].text)\n",
    "print(comm.situationMentionSetList[0].__dict__['mentionList'][0].situationType)\n",
    "print(comm.situationMentionSetList[0].__dict__['mentionList'][0].situationKind)\n",
    "print(comm.situationMentionSetList[0].__dict__['mentionList'][0].confidence)\n",
    "print(comm.situationMentionSetList[0].__dict__['mentionList'][0].argumentList[0].__dict__.keys())"
   ]
  },
  {
   "cell_type": "code",
   "execution_count": 76,
   "id": "d570864d",
   "metadata": {},
   "outputs": [
    {
     "name": "stdout",
     "output_type": "stream",
     "text": [
      "UUID(uuidString='2911b74b-b289-b1f2-75c3-0fe9d7ed7231')\n",
      "UUID(uuidString='2911b74b-b289-b1f2-75c3-0fe9d7ed7236')\n",
      "UUID(uuidString='2911b74b-b289-b1f2-75c3-0fe9d7ed723b')\n",
      "UUID(uuidString='2911b74b-b289-b1f2-75c3-0fe9d7ed723e')\n",
      "UUID(uuidString='2911b74b-b289-b1f2-75c3-0fe9d7ed723f')\n",
      "UUID(uuidString='2911b74b-b289-b1f2-75c3-0fe9d7ed7244')\n",
      "UUID(uuidString='2911b74b-b289-b1f2-75c3-0fe9d7ed7247')\n",
      "UUID(uuidString='2911b74b-b289-b1f2-75c3-0fe9d7ed724a')\n",
      "UUID(uuidString='2911b74b-b289-b1f2-75c3-0fe9d7ed724d')\n",
      "UUID(uuidString='2911b74b-b289-b1f2-75c3-0fe9d7ed7252')\n",
      "UUID(uuidString='2911b74b-b289-b1f2-75c3-0fe9d7ed7257')\n",
      "UUID(uuidString='2911b74b-b289-b1f2-75c3-0fe9d7ed725c')\n",
      "UUID(uuidString='2911b74b-b289-b1f2-75c3-0fe9d7ed725f')\n",
      "UUID(uuidString='2911b74b-b289-b1f2-75c3-0fe9d7ed7264')\n",
      "UUID(uuidString='2911b74b-b289-b1f2-75c3-0fe9d7ed7269')\n",
      "UUID(uuidString='2911b74b-b289-b1f2-75c3-0fe9d7ed726c')\n",
      "UUID(uuidString='2911b74b-b289-b1f2-75c3-0fe9d7ed7271')\n",
      "UUID(uuidString='2911b74b-b289-b1f2-75c3-0fe9d7ed7276')\n",
      "UUID(uuidString='2911b74b-b289-b1f2-75c3-0fe9d7ed727b')\n",
      "UUID(uuidString='2911b74b-b289-b1f2-75c3-0fe9d7ed7280')\n",
      "UUID(uuidString='2911b74b-b289-b1f2-75c3-0fe9d7ed7283')\n",
      "UUID(uuidString='2911b74b-b289-b1f2-75c3-0fe9d7ed7284')\n",
      "UUID(uuidString='2911b74b-b289-b1f2-75c3-0fe9d7ed7287')\n",
      "UUID(uuidString='2911b74b-b289-b1f2-75c3-0fe9d7ed728a')\n",
      "UUID(uuidString='2911b74b-b289-b1f2-75c3-0fe9d7ed728b')\n",
      "UUID(uuidString='2911b74b-b289-b1f2-75c3-0fe9d7ed728c')\n",
      "UUID(uuidString='2911b74b-b289-b1f2-75c3-0fe9d7ed7291')\n",
      "UUID(uuidString='2911b74b-b289-b1f2-75c3-0fe9d7ed7292')\n",
      "UUID(uuidString='2911b74b-b289-b1f2-75c3-0fe9d7ed7295')\n",
      "UUID(uuidString='2911b74b-b289-b1f2-75c3-0fe9d7ed729a')\n",
      "UUID(uuidString='2911b74b-b289-b1f2-75c3-0fe9d7ed729d')\n",
      "UUID(uuidString='2911b74b-b289-b1f2-75c3-0fe9d7ed72a0')\n",
      "UUID(uuidString='2911b74b-b289-b1f2-75c3-0fe9d7ed72a1')\n",
      "UUID(uuidString='2911b74b-b289-b1f2-75c3-0fe9d7ed72a4')\n",
      "UUID(uuidString='2911b74b-b289-b1f2-75c3-0fe9d7ed72a5')\n",
      "UUID(uuidString='2911b74b-b289-b1f2-75c3-0fe9d7ed72aa')\n",
      "UUID(uuidString='2911b74b-b289-b1f2-75c3-0fe9d7ed72ab')\n",
      "UUID(uuidString='2911b74b-b289-b1f2-75c3-0fe9d7ed72ac')\n",
      "UUID(uuidString='2911b74b-b289-b1f2-75c3-0fe9d7ed72af')\n",
      "UUID(uuidString='2911b74b-b289-b1f2-75c3-0fe9d7ed72b6')\n",
      "UUID(uuidString='2911b74b-b289-b1f2-75c3-0fe9d7ed72b9')\n",
      "UUID(uuidString='2911b74b-b289-b1f2-75c3-0fe9d7ed72ba')\n",
      "UUID(uuidString='2911b74b-b289-b1f2-75c3-0fe9d7ed72bb')\n",
      "UUID(uuidString='2911b74b-b289-b1f2-75c3-0fe9d7ed72bc')\n",
      "UUID(uuidString='2911b74b-b289-b1f2-75c3-0fe9d7ed72bf')\n",
      "UUID(uuidString='2911b74b-b289-b1f2-75c3-0fe9d7ed72c4')\n",
      "UUID(uuidString='2911b74b-b289-b1f2-75c3-0fe9d7ed72c5')\n",
      "UUID(uuidString='2911b74b-b289-b1f2-75c3-0fe9d7ed72c6')\n",
      "UUID(uuidString='2911b74b-b289-b1f2-75c3-0fe9d7ed72cb')\n",
      "UUID(uuidString='2911b74b-b289-b1f2-75c3-0fe9d7ed72cc')\n",
      "UUID(uuidString='2911b74b-b289-b1f2-75c3-0fe9d7ed72cf')\n",
      "UUID(uuidString='2911b74b-b289-b1f2-75c3-0fe9d7ed72d0')\n",
      "UUID(uuidString='2911b74b-b289-b1f2-75c3-0fe9d7ed72d3')\n",
      "UUID(uuidString='2911b74b-b289-b1f2-75c3-0fe9d7ed72d4')\n",
      "UUID(uuidString='2911b74b-b289-b1f2-75c3-0fe9d7ed72db')\n",
      "UUID(uuidString='2911b74b-b289-b1f2-75c3-0fe9d7ed72de')\n",
      "UUID(uuidString='2911b74b-b289-b1f2-75c3-0fe9d7ed72df')\n",
      "UUID(uuidString='2911b74b-b289-b1f2-75c3-0fe9d7ed72e0')\n",
      "UUID(uuidString='2911b74b-b289-b1f2-75c3-0fe9d7ed72e1')\n",
      "UUID(uuidString='2911b74b-b289-b1f2-75c3-0fe9d7ed72e4')\n",
      "UUID(uuidString='2911b74b-b289-b1f2-75c3-0fe9d7ed72e5')\n",
      "UUID(uuidString='2911b74b-b289-b1f2-75c3-0fe9d7ed72ea')\n",
      "UUID(uuidString='2911b74b-b289-b1f2-75c3-0fe9d7ed72eb')\n",
      "UUID(uuidString='2911b74b-b289-b1f2-75c3-0fe9d7ed72ec')\n",
      "UUID(uuidString='2911b74b-b289-b1f2-75c3-0fe9d7ed72ed')\n",
      "UUID(uuidString='2911b74b-b289-b1f2-75c3-0fe9d7ed72f0')\n",
      "UUID(uuidString='2911b74b-b289-b1f2-75c3-0fe9d7ed72f3')\n",
      "UUID(uuidString='2911b74b-b289-b1f2-75c3-0fe9d7ed72f8')\n",
      "UUID(uuidString='2911b74b-b289-b1f2-75c3-0fe9d7ed72fb')\n",
      "UUID(uuidString='2911b74b-b289-b1f2-75c3-0fe9d7ed72fc')\n",
      "UUID(uuidString='2911b74b-b289-b1f2-75c3-0fe9d7ed72fd')\n",
      "UUID(uuidString='2911b74b-b289-b1f2-75c3-0fe9d7ed7300')\n",
      "UUID(uuidString='2911b74b-b289-b1f2-75c3-0fe9d7ed7303')\n",
      "UUID(uuidString='2911b74b-b289-b1f2-75c3-0fe9d7ed7304')\n",
      "UUID(uuidString='2911b74b-b289-b1f2-75c3-0fe9d7ed7305')\n",
      "UUID(uuidString='2911b74b-b289-b1f2-75c3-0fe9d7ed7306')\n",
      "UUID(uuidString='2911b74b-b289-b1f2-75c3-0fe9d7ed7307')\n",
      "UUID(uuidString='2911b74b-b289-b1f2-75c3-0fe9d7ed7308')\n",
      "UUID(uuidString='2911b74b-b289-b1f2-75c3-0fe9d7ed730b')\n",
      "UUID(uuidString='2911b74b-b289-b1f2-75c3-0fe9d7ed730e')\n",
      "UUID(uuidString='2911b74b-b289-b1f2-75c3-0fe9d7ed7311')\n",
      "UUID(uuidString='2911b74b-b289-b1f2-75c3-0fe9d7ed7314')\n",
      "UUID(uuidString='2911b74b-b289-b1f2-75c3-0fe9d7ed7317')\n",
      "UUID(uuidString='2911b74b-b289-b1f2-75c3-0fe9d7ed731a')\n",
      "UUID(uuidString='2911b74b-b289-b1f2-75c3-0fe9d7ed731b')\n",
      "UUID(uuidString='2911b74b-b289-b1f2-75c3-0fe9d7ed731e')\n",
      "UUID(uuidString='2911b74b-b289-b1f2-75c3-0fe9d7ed7321')\n",
      "UUID(uuidString='2911b74b-b289-b1f2-75c3-0fe9d7ed7324')\n",
      "UUID(uuidString='2911b74b-b289-b1f2-75c3-0fe9d7ed7325')\n",
      "UUID(uuidString='2911b74b-b289-b1f2-75c3-0fe9d7ed7326')\n",
      "UUID(uuidString='2911b74b-b289-b1f2-75c3-0fe9d7ed732b')\n",
      "UUID(uuidString='2911b74b-b289-b1f2-75c3-0fe9d7ed732c')\n",
      "UUID(uuidString='2911b74b-b289-b1f2-75c3-0fe9d7ed732d')\n",
      "UUID(uuidString='2911b74b-b289-b1f2-75c3-0fe9d7ed7330')\n",
      "UUID(uuidString='2911b74b-b289-b1f2-75c3-0fe9d7ed7331')\n",
      "UUID(uuidString='2911b74b-b289-b1f2-75c3-0fe9d7ed7332')\n",
      "UUID(uuidString='2911b74b-b289-b1f2-75c3-0fe9d7ed7339')\n",
      "UUID(uuidString='2911b74b-b289-b1f2-75c3-0fe9d7ed733e')\n",
      "UUID(uuidString='2911b74b-b289-b1f2-75c3-0fe9d7ed7341')\n",
      "UUID(uuidString='2911b74b-b289-b1f2-75c3-0fe9d7ed7342')\n",
      "UUID(uuidString='2911b74b-b289-b1f2-75c3-0fe9d7ed7343')\n",
      "UUID(uuidString='2911b74b-b289-b1f2-75c3-0fe9d7ed7348')\n",
      "UUID(uuidString='2911b74b-b289-b1f2-75c3-0fe9d7ed734b')\n",
      "UUID(uuidString='2911b74b-b289-b1f2-75c3-0fe9d7ed734c')\n",
      "UUID(uuidString='2911b74b-b289-b1f2-75c3-0fe9d7ed7351')\n",
      "UUID(uuidString='2911b74b-b289-b1f2-75c3-0fe9d7ed7354')\n",
      "UUID(uuidString='2911b74b-b289-b1f2-75c3-0fe9d7ed7357')\n",
      "UUID(uuidString='2911b74b-b289-b1f2-75c3-0fe9d7ed735a')\n",
      "UUID(uuidString='2911b74b-b289-b1f2-75c3-0fe9d7ed735d')\n",
      "UUID(uuidString='2911b74b-b289-b1f2-75c3-0fe9d7ed7360')\n",
      "UUID(uuidString='2911b74b-b289-b1f2-75c3-0fe9d7ed7363')\n",
      "UUID(uuidString='2911b74b-b289-b1f2-75c3-0fe9d7ed7364')\n",
      "UUID(uuidString='2911b74b-b289-b1f2-75c3-0fe9d7ed7369')\n",
      "UUID(uuidString='2911b74b-b289-b1f2-75c3-0fe9d7ed736a')\n",
      "UUID(uuidString='2911b74b-b289-b1f2-75c3-0fe9d7ed736b')\n",
      "UUID(uuidString='2911b74b-b289-b1f2-75c3-0fe9d7ed736c')\n",
      "UUID(uuidString='2911b74b-b289-b1f2-75c3-0fe9d7ed736f')\n",
      "UUID(uuidString='2911b74b-b289-b1f2-75c3-0fe9d7ed7370')\n",
      "UUID(uuidString='2911b74b-b289-b1f2-75c3-0fe9d7ed7371')\n",
      "UUID(uuidString='2911b74b-b289-b1f2-75c3-0fe9d7ed7374')\n",
      "UUID(uuidString='2911b74b-b289-b1f2-75c3-0fe9d7ed7375')\n",
      "UUID(uuidString='2911b74b-b289-b1f2-75c3-0fe9d7ed7378')\n",
      "UUID(uuidString='2911b74b-b289-b1f2-75c3-0fe9d7ed737b')\n",
      "UUID(uuidString='2911b74b-b289-b1f2-75c3-0fe9d7ed737c')\n",
      "UUID(uuidString='2911b74b-b289-b1f2-75c3-0fe9d7ed7381')\n",
      "UUID(uuidString='2911b74b-b289-b1f2-75c3-0fe9d7ed7382')\n",
      "UUID(uuidString='2911b74b-b289-b1f2-75c3-0fe9d7ed7385')\n",
      "UUID(uuidString='2911b74b-b289-b1f2-75c3-0fe9d7ed7388')\n",
      "UUID(uuidString='2911b74b-b289-b1f2-75c3-0fe9d7ed7389')\n",
      "UUID(uuidString='2911b74b-b289-b1f2-75c3-0fe9d7ed738a')\n",
      "UUID(uuidString='2911b74b-b289-b1f2-75c3-0fe9d7ed738b')\n"
     ]
    }
   ],
   "source": [
    "for mention in comm.situationMentionSetList[0].mentionList:\n",
    "    print(mention.uuid)"
   ]
  },
  {
   "cell_type": "code",
   "execution_count": 77,
   "id": "4c5810d3",
   "metadata": {},
   "outputs": [
    {
     "data": {
      "text/plain": [
       "UUID(uuidString='2911b74b-b289-4d6d-2601-3180518c5e31')"
      ]
     },
     "execution_count": 77,
     "metadata": {},
     "output_type": "execute_result"
    }
   ],
   "source": [
    "comm.situationMentionSetList[1].mentionList[0].uuid"
   ]
  },
  {
   "cell_type": "code",
   "execution_count": null,
   "id": "9fef8f58",
   "metadata": {},
   "outputs": [],
   "source": []
  }
 ],
 "metadata": {
  "kernelspec": {
   "display_name": "Python 3",
   "language": "python",
   "name": "python3"
  },
  "language_info": {
   "codemirror_mode": {
    "name": "ipython",
    "version": 3
   },
   "file_extension": ".py",
   "mimetype": "text/x-python",
   "name": "python",
   "nbconvert_exporter": "python",
   "pygments_lexer": "ipython3",
   "version": "3.8.5"
  }
 },
 "nbformat": 4,
 "nbformat_minor": 5
}
