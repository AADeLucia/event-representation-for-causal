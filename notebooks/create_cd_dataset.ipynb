{
 "cells": [
  {
   "cell_type": "code",
   "execution_count": 1,
   "metadata": {},
   "outputs": [],
   "source": [
    "import os\n",
    "import csv\n",
    "import json\n",
    "import random\n",
    "import jsonlines\n",
    "import numpy as np\n",
    "\n",
    "from glob import glob\n",
    "from tqdm import tqdm\n",
    "from sklearn.feature_extraction.text import TfidfVectorizer"
   ]
  },
  {
   "cell_type": "markdown",
   "metadata": {},
   "source": [
    "# Process all schemas"
   ]
  },
  {
   "cell_type": "code",
   "execution_count": 3,
   "metadata": {},
   "outputs": [
    {
     "name": "stderr",
     "output_type": "stream",
     "text": [
      "100%|██████████| 197/197 [00:58<00:00,  3.35it/s]\n",
      "100%|██████████| 197/197 [00:56<00:00,  3.48it/s]\n",
      "100%|██████████| 197/197 [00:56<00:00,  3.47it/s]\n",
      "100%|██████████| 197/197 [00:56<00:00,  3.46it/s]\n",
      "100%|██████████| 197/197 [00:57<00:00,  3.45it/s]\n"
     ]
    }
   ],
   "source": [
    "schema_descr_path = '../data/schemas/descrs'\n",
    "cgw_schema_rel_docs_path = '../data/cgw/schema_related/pos'\n",
    "cgw_preds_args_path = '../data/cgw/preds_args'\n",
    "\n",
    "for filename in os.listdir(schema_descr_path):\n",
    "    if not filename.endswith('.json'):\n",
    "        continue\n",
    "    schema_name = filename[:-5]\n",
    "\n",
    "    subset_docs_ids = set()\n",
    "\n",
    "    # Collect schema-related docs' ids\n",
    "    with jsonlines.open(f'{cgw_schema_rel_docs_path}/{schema_name}.jsonl') as reader:\n",
    "        for doc in reader:\n",
    "            subset_docs_ids.add(doc['id'])\n",
    "    \n",
    "    # Load schema events\n",
    "    with open(f'{schema_descr_path}/{schema_name}.json') as fin:\n",
    "        schema_descr = json.load(fin)\n",
    "        filtered_events = schema_descr['predpatt']\n",
    "    \n",
    "    # Load schema-related docs\n",
    "    subset_raw_docs_ids = []\n",
    "    subset_raw_docs = []\n",
    "\n",
    "    for pred_arg_path in tqdm(glob(f'{cgw_preds_args_path}/*.jsonl')):\n",
    "        with jsonlines.open(pred_arg_path) as reader:\n",
    "            for doc in reader:\n",
    "                assert doc['filename'].endswith('.comm')\n",
    "                doc_id = doc['filename'][:-5]\n",
    "                if doc_id in subset_docs_ids:\n",
    "                    # pred_only_doc = [f'{a0 if ix == 0 else a1}_{ix}' for a0, a1, ix in doc['preds_args']]\n",
    "                    pred_only_doc = [(a0 if ix == 0 else a1) for a0, a1, ix in doc['preds_args']]\n",
    "                    subset_raw_docs_ids.append(doc_id)\n",
    "                    subset_raw_docs.append(pred_only_doc)\n",
    "    \n",
    "    subset_raw_docs_ids = np.array(subset_raw_docs_ids)\n",
    "    assert len(subset_docs_ids) == len(subset_raw_docs) == len(subset_raw_docs_ids)\n",
    "\n",
    "    # Vectorize docs\n",
    "    vectorizer = TfidfVectorizer(tokenizer=lambda x: x, lowercase=False, vocabulary=filtered_events)\n",
    "    subset_tfidf = vectorizer.fit_transform(subset_raw_docs)\n",
    "    subset_tfidf = subset_tfidf.toarray()\n",
    "\n",
    "    vocab_relevant_mask = (subset_tfidf.sum(axis=1) > 0)\n",
    "    subset_tfidf = subset_tfidf[vocab_relevant_mask]\n",
    "    subset_tfidf_ids = subset_raw_docs_ids[vocab_relevant_mask]\n",
    "    \n",
    "    # Output to CSV\n",
    "    header = [v for k, v in sorted([(v, k) for k, v in vectorizer.vocabulary_.items()])]\n",
    "    vocab_size = len(vectorizer.vocabulary_)\n",
    "\n",
    "    with open(f'{cgw_schema_rel_docs_path}/{schema_name}_binary_{vocab_size}.csv', 'w') as fout:\n",
    "        writer = csv.writer(fout)\n",
    "        writer.writerow(header)\n",
    "        for doc_id, row in zip(subset_tfidf_ids, np.int32(subset_tfidf > 0)):\n",
    "            writer.writerow(list(row))"
   ]
  },
  {
   "cell_type": "markdown",
   "metadata": {},
   "source": [
    "# Process narrative chains"
   ]
  },
  {
   "cell_type": "code",
   "execution_count": null,
   "metadata": {},
   "outputs": [],
   "source": [
    "filtered_events = ['convict_0', 'face_1', 'sentence_0', 'arrest_0', 'accuse_1',\n",
    "                   'plead_1', 'acquit_0', 'indict_0', 'testify_1', 'charge_0']\n",
    "\n",
    "filtered_events_set = set(filtered_events)"
   ]
  },
  {
   "cell_type": "code",
   "execution_count": null,
   "metadata": {},
   "outputs": [],
   "source": [
    "subset_raw_docs_ids = []\n",
    "subset_raw_docs = []\n",
    "\n",
    "with open('../data/cgw/nytimes_chains.txt') as reader:\n",
    "    for ix, chain in tqdm(enumerate(reader)):\n",
    "        pred_only_chain = [x.replace('->nsubj', '_1').replace('->dobj', '_0') for x in chain.strip().split()]\n",
    "        subset_raw_docs_ids.append(ix)\n",
    "        subset_raw_docs.append(pred_only_chain)"
   ]
  },
  {
   "cell_type": "code",
   "execution_count": null,
   "metadata": {},
   "outputs": [],
   "source": [
    "subset_raw_docs_ids = np.array(subset_raw_docs_ids)"
   ]
  },
  {
   "cell_type": "code",
   "execution_count": null,
   "metadata": {},
   "outputs": [],
   "source": [
    "%%time\n",
    "\n",
    "vectorizer = TfidfVectorizer(tokenizer=lambda x: x, lowercase=False, vocabulary=filtered_events)\n",
    "subset_tfidf = vectorizer.fit_transform(subset_raw_docs)\n",
    "subset_tfidf = subset_tfidf.toarray()\n",
    "\n",
    "vocab_relevant_mask = (subset_tfidf.sum(axis=1) > 0)\n",
    "subset_tfidf = subset_tfidf[vocab_relevant_mask]\n",
    "subset_tfidf_ids = subset_raw_docs_ids[vocab_relevant_mask]"
   ]
  },
  {
   "cell_type": "code",
   "execution_count": null,
   "metadata": {},
   "outputs": [],
   "source": [
    "# Output to CSV\n",
    "\n",
    "header = [v for k, v in sorted([(v, k) for k, v in vectorizer.vocabulary_.items()])]\n",
    "vocab_size = len(vectorizer.vocabulary_)\n",
    "\n",
    "with open(f'../data/cgw/schema_related/pos/{schema_name}_tfidf_cj_{vocab_size}.csv', 'w') as fout:\n",
    "    writer = csv.writer(fout)\n",
    "    writer.writerow(header)\n",
    "    for doc_id, row in zip(subset_tfidf_ids, subset_tfidf):\n",
    "        writer.writerow(list(row))"
   ]
  },
  {
   "cell_type": "markdown",
   "metadata": {},
   "source": [
    "---"
   ]
  }
 ],
 "metadata": {
  "kernelspec": {
   "display_name": "causal-project",
   "language": "python",
   "name": "causal-project"
  },
  "language_info": {
   "codemirror_mode": {
    "name": "ipython",
    "version": 3
   },
   "file_extension": ".py",
   "mimetype": "text/x-python",
   "name": "python",
   "nbconvert_exporter": "python",
   "pygments_lexer": "ipython3",
   "version": "3.8.2"
  }
 },
 "nbformat": 4,
 "nbformat_minor": 4
}
