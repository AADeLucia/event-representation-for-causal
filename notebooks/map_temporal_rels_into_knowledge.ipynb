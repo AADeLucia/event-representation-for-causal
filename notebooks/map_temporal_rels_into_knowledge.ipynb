{
 "cells": [
  {
   "cell_type": "code",
   "execution_count": 1,
   "metadata": {},
   "outputs": [],
   "source": [
    "import os\n",
    "import json\n",
    "import collections\n",
    "\n",
    "from glob import glob\n",
    "from tqdm import tqdm"
   ]
  },
  {
   "cell_type": "code",
   "execution_count": 2,
   "metadata": {},
   "outputs": [],
   "source": [
    "temp_agg_dir = '../data/cgw/temporal/lome'\n",
    "knowledge_dir = '../data/cgw/temporal/causal-cmd'"
   ]
  },
  {
   "cell_type": "code",
   "execution_count": 4,
   "metadata": {},
   "outputs": [],
   "source": [
    "for filename in os.listdir(temp_agg_dir):\n",
    "    temp_agg_path = f'{temp_agg_dir}/{filename}'\n",
    "    knowledge_path = f'{knowledge_dir}/{filename}'\n",
    "\n",
    "    # Read aggregated temporal relations\n",
    "    agg_temp_rels = collections.defaultdict(dict)\n",
    "\n",
    "    with open(temp_agg_path) as fin:\n",
    "        for line in fin:\n",
    "            arg0, arg1, rel, cnt = line.strip().split()\n",
    "            if arg0 != arg1:\n",
    "                assert rel in ('before', 'after')\n",
    "                if arg0 < arg1:\n",
    "                    arg_tuple = (arg0, arg1)\n",
    "                    arrow = '->' if rel == 'before' else '<-'\n",
    "                else:\n",
    "                    arg_tuple = (arg1, arg0)\n",
    "                    arrow = '<-' if rel == 'before' else '->' # flipped because arg0 and arg1 are flipped\n",
    "                cnt = int(cnt)\n",
    "                agg_temp_rels[arg_tuple][arrow] = cnt\n",
    "\n",
    "    # Construct a set of possible and forbidden edges, according to aggregated temporal ordering stats\n",
    "    possible_edges = {}\n",
    "    forbidden_edges = set()\n",
    "\n",
    "    for arg_tuple, cnts in agg_temp_rels.items():\n",
    "        arg0, arg1 = arg_tuple\n",
    "        cnt_before, cnt_after = cnts.get('->', 0) + 1, cnts.get('<-', 0) + 1  # smooth to avoid zeros\n",
    "        support = max(cnt_before, cnt_after)\n",
    "        conf = support / min(cnt_before, cnt_after)\n",
    "        if support > 30 and conf > 3:\n",
    "            if cnt_before > cnt_after:\n",
    "                edge = (arg0, arg1)\n",
    "            else:\n",
    "                edge = (arg1, arg0)\n",
    "            inv_edge = (edge[1], edge[0])\n",
    "            possible_edges[edge] = (support, conf)\n",
    "            forbidden_edges.add(inv_edge)\n",
    "    \n",
    "    # Output knowledge file\n",
    "\n",
    "    with open(knowledge_path, 'w') as fout:\n",
    "        fout.write('/knowledge\\n\\nforbiddirect\\n')\n",
    "        for u, v in forbidden_edges:\n",
    "            fout.write(f'{u} {v}\\n')"
   ]
  },
  {
   "cell_type": "markdown",
   "metadata": {},
   "source": [
    "---"
   ]
  }
 ],
 "metadata": {
  "kernelspec": {
   "display_name": "causal-project",
   "language": "python",
   "name": "causal-project"
  },
  "language_info": {
   "codemirror_mode": {
    "name": "ipython",
    "version": 3
   },
   "file_extension": ".py",
   "mimetype": "text/x-python",
   "name": "python",
   "nbconvert_exporter": "python",
   "pygments_lexer": "ipython3",
   "version": "3.8.2"
  }
 },
 "nbformat": 4,
 "nbformat_minor": 4
}
